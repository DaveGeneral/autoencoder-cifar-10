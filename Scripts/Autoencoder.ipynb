{
 "cells": [
  {
   "cell_type": "markdown",
   "metadata": {},
   "source": [
    "# Script to train an AutoEncoder for the CIFAR-10 dataset. \n",
    "-------------------------------------------------------------------------------------------------------------------\n",
    "### Technology used: Tensorflow-core "
   ]
  },
  {
   "cell_type": "code",
   "execution_count": 2,
   "metadata": {
    "collapsed": true
   },
   "outputs": [],
   "source": [
    "# packages used for machine learning\n",
    "import tensorflow as tf\n",
    "\n",
    "# packages used for processing: \n",
    "from six.moves import cPickle as pickle # for reading the data\n",
    "import matplotlib.pyplot as plt # for visualization\n",
    "import numpy as np\n",
    "from sklearn.preprocessing import OneHotEncoder # for encoding the labels in one hot form\n",
    "\n",
    "# for operating system related stuff\n",
    "import os\n",
    "import sys # for memory usage of objects\n",
    "from subprocess import check_output\n",
    "\n",
    "# to plot the images inline\n",
    "%matplotlib inline"
   ]
  },
  {
   "cell_type": "code",
   "execution_count": 3,
   "metadata": {
    "collapsed": true
   },
   "outputs": [],
   "source": [
    "# Input data files are available in the \"../Data/\" directory.\n",
    "\n",
    "def exec_command(cmd):\n",
    "    '''\n",
    "        function to execute a shell command and see it's \n",
    "        output in the python console\n",
    "        @params\n",
    "        cmd = the command to be executed along with the arguments\n",
    "              ex: ['ls', '../input']\n",
    "    '''\n",
    "    print(check_output(cmd).decode(\"utf8\"))"
   ]
  },
  {
   "cell_type": "code",
   "execution_count": 4,
   "metadata": {},
   "outputs": [
    {
     "name": "stdout",
     "output_type": "stream",
     "text": [
      "Data\n",
      "LICENSE\n",
      "Models\n",
      "README.md\n",
      "Scripts\n",
      "\n"
     ]
    }
   ],
   "source": [
    "# check the structure of the project directory\n",
    "exec_command(['ls', '..'])"
   ]
  },
  {
   "cell_type": "code",
   "execution_count": 18,
   "metadata": {},
   "outputs": [],
   "source": [
    "''' Set the constants for the script '''\n",
    "\n",
    "# various paths of the files\n",
    "data_path = \"../Data/cifar-10-batches-py\" # the data path\n",
    "train_meta = os.path.join(data_path, \"batches.meta\")\n",
    "model_path = '../Models/model1'\n",
    "base_model_path = '../Models'\n",
    "\n",
    "# constant values:\n",
    "size = 32 # the images of size 32 x 32\n",
    "channels = 3 # RGB channels\n",
    "highest_pixel_value = 255.0 # 8 bits for every channel. So, max value is 255\n",
    "no_of_epochs = 100 # No. of epochs to run\n",
    "no_of_batches = 5 # There are 5 batches in the dataset\n",
    "checkpoint_factor = 5 # save the model after every 5 steps (epochs)"
   ]
  },
  {
   "cell_type": "code",
   "execution_count": 6,
   "metadata": {},
   "outputs": [
    {
     "name": "stdout",
     "output_type": "stream",
     "text": [
      "batches.meta\n",
      "data_batch_1\n",
      "data_batch_2\n",
      "data_batch_3\n",
      "data_batch_4\n",
      "data_batch_5\n",
      "readme.html\n",
      "test_batch\n",
      "\n"
     ]
    }
   ],
   "source": [
    "# check the contents inside the data folder\n",
    "exec_command(['ls', data_path])"
   ]
  },
  {
   "cell_type": "code",
   "execution_count": 7,
   "metadata": {
    "collapsed": true
   },
   "outputs": [],
   "source": [
    "# function to unPickle a file: \n",
    "def unpickle(file):\n",
    "    '''\n",
    "        This function takes the file path and unPickles the file acquired from it\n",
    "        @Param file: the string path of the file\n",
    "        @return: The dict object unPickled from the file\n",
    "    '''\n",
    "    import cPickle\n",
    "    with open(file, 'rb') as fo:\n",
    "        dict = cPickle.load(fo)\n",
    "    return dict"
   ]
  },
  {
   "cell_type": "markdown",
   "metadata": {},
   "source": [
    "### Let's check the contents of the batches.meta file"
   ]
  },
  {
   "cell_type": "code",
   "execution_count": 8,
   "metadata": {},
   "outputs": [
    {
     "data": {
      "text/plain": [
       "{'label_names': ['airplane',\n",
       "  'automobile',\n",
       "  'bird',\n",
       "  'cat',\n",
       "  'deer',\n",
       "  'dog',\n",
       "  'frog',\n",
       "  'horse',\n",
       "  'ship',\n",
       "  'truck'],\n",
       " 'num_cases_per_batch': 10000,\n",
       " 'num_vis': 3072}"
      ]
     },
     "execution_count": 8,
     "metadata": {},
     "output_type": "execute_result"
    }
   ],
   "source": [
    "meta_data = unpickle(train_meta)\n",
    "\n",
    "# check it's contents\n",
    "meta_data"
   ]
  },
  {
   "cell_type": "markdown",
   "metadata": {},
   "source": [
    "### Let's read and display some of the images from the dataset along with their labels"
   ]
  },
  {
   "cell_type": "code",
   "execution_count": 9,
   "metadata": {},
   "outputs": [
    {
     "data": {
      "text/plain": [
       "['data', 'labels', 'batch_label', 'filenames']"
      ]
     },
     "execution_count": 9,
     "metadata": {},
     "output_type": "execute_result"
    }
   ],
   "source": [
    "train_batch_preliminary = unpickle(os.path.join(data_path, \"data_batch_3\"))\n",
    "\n",
    "# check it's contents\n",
    "train_batch_preliminary.keys()"
   ]
  },
  {
   "cell_type": "code",
   "execution_count": 10,
   "metadata": {},
   "outputs": [
    {
     "data": {
      "text/plain": [
       "array([[178, 191, 193, 197, 202, 206, 207, 209, 214, 219],\n",
       "       [140, 151, 155, 160, 166, 172, 173, 171, 176, 180],\n",
       "       [ 84,  94, 119, 151, 146, 127, 125, 135, 139, 139],\n",
       "       [ 16,  18,  85, 200, 207, 133,  71,  59,  72,  79],\n",
       "       [  9,   3,  51, 183, 238, 219, 177,  94,  30,  16],\n",
       "       [ 31,  25,  38, 148, 240, 249, 255, 235, 139,  39],\n",
       "       [ 69,  65,  62, 115, 215, 250, 248, 253, 245, 201],\n",
       "       [ 92,  89,  81,  89, 173, 240, 249, 253, 253, 255],\n",
       "       [ 93,  90,  84,  85, 139, 217, 241, 246, 251, 252],\n",
       "       [ 75,  74,  71,  87, 154, 208, 229, 239, 245, 250]], dtype=uint8)"
      ]
     },
     "execution_count": 10,
     "metadata": {},
     "output_type": "execute_result"
    }
   ],
   "source": [
    "# Extract the first 3 images from the dataset\n",
    "preliminary_data = train_batch_preliminary['data'].reshape((len(train_batch_preliminary['data']), 32, 32, 3), \n",
    "                                                           order='F')\n",
    "preliminary_labels = train_batch_preliminary['labels']\n",
    "\n",
    "# view some of the data:\n",
    "preliminary_data[33, :10, :10, 2] #(10 x 10) data of blue channel of 33rd image"
   ]
  },
  {
   "cell_type": "code",
   "execution_count": 11,
   "metadata": {},
   "outputs": [
    {
     "data": {
      "text/plain": [
       "[8, 5, 0, 6, 9, 2, 8, 3, 6, 2]"
      ]
     },
     "execution_count": 11,
     "metadata": {},
     "output_type": "execute_result"
    }
   ],
   "source": [
    "# check a few values of the labels of the dataset\n",
    "preliminary_labels[:10] "
   ]
  },
  {
   "cell_type": "code",
   "execution_count": 12,
   "metadata": {},
   "outputs": [
    {
     "data": {
      "image/png": "[encoded data removed]",
      "text/plain": [
       "<matplotlib.figure.Figure at 0x7fb7c8c4c450>"
      ]
     },
     "metadata": {},
     "output_type": "display_data"
    },
    {
     "data": {
      "image/png": "[encoded data removed]",
      "text/plain": [
       "<matplotlib.figure.Figure at 0x7fb8125561d0>"
      ]
     },
     "metadata": {},
     "output_type": "display_data"
    },
    {
     "data": {
      "image/png": "[encoded data removed]",
      "text/plain": [
       "<matplotlib.figure.Figure at 0x7fb7cc710090>"
      ]
     },
     "metadata": {},
     "output_type": "display_data"
    }
   ],
   "source": [
    "for _ in range(3):\n",
    "    random_index = np.random.randint(preliminary_data.shape[0])\n",
    "    \n",
    "    plt.figure().suptitle(\"Random Image from the dataset: %s\" %(meta_data['label_names'][preliminary_labels[random_index]]))\n",
    "    plt.imshow(preliminary_data[random_index], interpolation='none')"
   ]
  },
  {
   "cell_type": "markdown",
   "metadata": {},
   "source": [
    "### The images look blurred out because they are very low resolution images (32 x 32) pixels only.\n",
    "\n",
    "## It can be seen that the images in the original dataset are skewed. So, we will have to rotate them by 90 degrees clockwise"
   ]
  },
  {
   "cell_type": "code",
   "execution_count": 13,
   "metadata": {},
   "outputs": [
    {
     "data": {
      "text/plain": [
       "<matplotlib.image.AxesImage at 0x7fb7cc41f150>"
      ]
     },
     "execution_count": 13,
     "metadata": {},
     "output_type": "execute_result"
    },
    {
     "data": {
      "image/png": "[encoded data removed]",
      "text/plain": [
       "<matplotlib.figure.Figure at 0x7fb7cc499290>"
      ]
     },
     "metadata": {},
     "output_type": "display_data"
    }
   ],
   "source": [
    "# let's try using the numpy.rot90 method for this:\n",
    "random_index = np.random.randint(preliminary_data.shape[0])\n",
    "    \n",
    "plt.figure().suptitle(\"Random Image from the dataset: %s\" %(meta_data['label_names'][preliminary_labels[random_index]]))\n",
    "plt.imshow(np.rot90(preliminary_data[random_index], axes=(1, 0)), interpolation='none')"
   ]
  },
  {
   "cell_type": "markdown",
   "metadata": {},
   "source": [
    "This works. So, now we can create a function to put all this together. This function would take the batch pickle file and create the data suitable for feeding it off to a convolutional neural network."
   ]
  },
  {
   "cell_type": "code",
   "execution_count": 14,
   "metadata": {
    "collapsed": true
   },
   "outputs": [],
   "source": [
    "# The batch generator function:\n",
    "def generateBatch(batchFile):\n",
    "    '''\n",
    "        The function to generate a batch of data suitable for performing the convNet operations on it\n",
    "        @param batchFile -> the path of the input batchfile\n",
    "        @return batch: (data, labels) -> the processed data.\n",
    "    '''\n",
    "    # unpickle the batch file:\n",
    "    data_dict = unpickle(batchFile)\n",
    "    \n",
    "    # extract the data and labels from this dictionary\n",
    "    unprocessed_data = data_dict['data']\n",
    "    integer_labels = np.array(data_dict['labels']) # labels in integer form\n",
    "    \n",
    "    # reshape and rotate the data\n",
    "    data = unprocessed_data.reshape((len(unprocessed_data), size, size, channels), order='F')\n",
    "    processed_data = np.array(map(lambda x: np.rot90(x, axes=(1, 0)), data))\n",
    "    \n",
    "    # encode the labels in one-hot encoded form\n",
    "    # we use the sklearn.preprocessing package for doing this\n",
    "    encoder = OneHotEncoder(sparse=False)\n",
    "    encoded_labels = np.array(encoder.fit_transform(integer_labels.reshape(len(integer_labels), 1))).astype(np.int)\n",
    "    \n",
    "    # return the processed data and the encoded_labels:\n",
    "    return (processed_data, encoded_labels)"
   ]
  },
  {
   "cell_type": "markdown",
   "metadata": {},
   "source": [
    "### Time to test this function"
   ]
  },
  {
   "cell_type": "code",
   "execution_count": 15,
   "metadata": {},
   "outputs": [
    {
     "name": "stdout",
     "output_type": "stream",
     "text": [
      "((10000, 32, 32, 3), (10000, 10))\n"
     ]
    }
   ],
   "source": [
    "# load the batch no. 1 and check if it works correctly.\n",
    "batch_data, batch_labels = generateBatch(os.path.join(data_path, \"data_batch_1\"))\n",
    "print (batch_data.shape, batch_labels.shape)\n",
    "\n",
    "# batch_data[0, :12, :12, 2]"
   ]
  },
  {
   "cell_type": "markdown",
   "metadata": {},
   "source": [
    "Alright! So, the data extraction module is setup. Let's move on to the actual model building and training."
   ]
  },
  {
   "cell_type": "markdown",
   "metadata": {},
   "source": [
    "# The computation graph (tensorflow graph and not the weights) for this model is inside the computation_graph package. It can be imported from there"
   ]
  },
  {
   "cell_type": "code",
   "execution_count": 16,
   "metadata": {
    "collapsed": true
   },
   "outputs": [],
   "source": [
    "# import the graph from the Graph1 module \n",
    "import computation_graph.Graph1 \n",
    "\n",
    "computation_graph = computation_graph.Graph1.graph"
   ]
  },
  {
   "cell_type": "markdown",
   "metadata": {},
   "source": [
    "## Now, let's write the session code to run this computation graph and perform the training"
   ]
  },
  {
   "cell_type": "code",
   "execution_count": null,
   "metadata": {
    "scrolled": true
   },
   "outputs": [
    {
     "name": "stdout",
     "output_type": "stream",
     "text": [
      "INFO:tensorflow:Restoring parameters from ../Models/model1-95\n",
      "epoch: 1\n",
      "=================================================================================================\n",
      "=================================================================================================\n",
      "current_batch: 1\n",
      "range:(0, 2000) loss= 2.7473013401\n",
      "range:(2000, 4000) loss= 2.61856245995\n",
      "range:(4000, 6000) loss= 2.58025407791\n",
      "range:(6000, 8000) loss= 2.71115708351\n",
      "range:(8000, 10000) loss= 2.66674613953\n",
      "\n",
      "=========================================================================================\n",
      "\n",
      "current_batch: 2\n",
      "range:(0, 2000) loss= 2.85665416718\n",
      "range:(2000, 4000) loss= 2.72763419151\n",
      "range:(4000, 6000) loss= 2.68705511093\n",
      "range:(6000, 8000) loss= 2.62218809128\n",
      "range:(8000, 10000) loss= 2.55706048012\n",
      "\n",
      "=========================================================================================\n",
      "\n",
      "current_batch: 3\n",
      "range:(0, 2000) loss= 2.52379536629\n",
      "range:(2000, 4000) loss= 2.57715463638\n",
      "range:(4000, 6000) loss= 2.53451514244\n",
      "range:(6000, 8000) loss= 2.54725337029\n",
      "range:(8000, 10000) loss= 2.60232543945\n",
      "\n",
      "=========================================================================================\n",
      "\n",
      "current_batch: 4\n",
      "range:(0, 2000) loss= 2.61839294434\n",
      "range:(2000, 4000) loss= 2.65819549561\n",
      "range:(4000, 6000) loss= 2.75191116333\n",
      "range:(6000, 8000) loss= 2.72253537178\n",
      "range:(8000, 10000) loss= 2.65349555016\n",
      "\n",
      "=========================================================================================\n",
      "\n",
      "current_batch: 5\n",
      "range:(0, 2000) loss= 2.60267877579\n",
      "range:(2000, 4000) loss= 2.56122255325\n",
      "range:(4000, 6000) loss= 2.52422761917\n",
      "range:(6000, 8000) loss= 2.51705622673\n",
      "range:(8000, 10000) loss= 2.58180475235\n",
      "\n",
      "=========================================================================================\n",
      "\n",
      "epoch: 2\n",
      "=================================================================================================\n",
      "=================================================================================================\n",
      "current_batch: 1\n",
      "range:(0, 2000) loss= 2.74578118324\n",
      "range:(2000, 4000) loss= 2.7086148262\n",
      "range:(4000, 6000) loss= 2.66555213928\n",
      "range:(6000, 8000) loss= 2.69432902336\n",
      "range:(8000, 10000) loss= 2.60887002945\n",
      "\n",
      "=========================================================================================\n",
      "\n",
      "current_batch: 2\n",
      "range:(0, 2000) loss= 2.65535759926\n",
      "range:(2000, 4000) loss= 2.65491890907\n",
      "range:(4000, 6000) loss= 2.65600323677\n",
      "range:(6000, 8000) loss= 2.6030523777\n",
      "range:(8000, 10000) loss= 2.58371925354\n",
      "\n",
      "=========================================================================================\n",
      "\n",
      "current_batch: 3\n",
      "range:(0, 2000) loss= 2.54818582535\n",
      "range:(2000, 4000) loss= 2.60044336319\n",
      "range:(4000, 6000) loss= 2.62846970558\n",
      "range:(6000, 8000) loss= 2.61307048798\n",
      "range:(8000, 10000) loss= 2.64490556717\n",
      "\n",
      "=========================================================================================\n",
      "\n",
      "current_batch: 4\n",
      "range:(0, 2000) loss= 2.60481119156\n",
      "range:(2000, 4000) loss= 2.56524991989\n",
      "range:(4000, 6000) loss= 2.59505534172\n",
      "range:(6000, 8000) loss= 2.65223836899\n",
      "range:(8000, 10000) loss= 2.61032891273\n",
      "\n",
      "=========================================================================================\n",
      "\n",
      "current_batch: 5\n",
      "range:(0, 2000) loss= 2.6389913559\n",
      "range:(2000, 4000) loss= 2.60520792007\n",
      "range:(4000, 6000) loss= 2.57649946213\n",
      "range:(6000, 8000) loss= 2.5544090271\n",
      "range:(8000, 10000) loss= 2.59016489983\n",
      "\n",
      "=========================================================================================\n",
      "\n",
      "epoch: 3\n",
      "=================================================================================================\n",
      "=================================================================================================\n",
      "current_batch: 1\n",
      "range:(0, 2000) loss= 2.67196178436\n",
      "range:(2000, 4000) loss= 2.64583182335\n",
      "range:(4000, 6000) loss= 2.59362053871\n",
      "range:(6000, 8000) loss= 2.65896701813\n",
      "range:(8000, 10000) loss= 2.58660268784\n",
      "\n",
      "=========================================================================================\n",
      "\n",
      "current_batch: 2\n",
      "range:(0, 2000) loss= 2.68706202507\n",
      "range:(2000, 4000) loss= 2.66506123543\n",
      "range:(4000, 6000) loss= 2.68006968498\n",
      "range:(6000, 8000) loss= 2.56448554993\n",
      "range:(8000, 10000) loss= 2.51336145401\n",
      "\n",
      "=========================================================================================\n",
      "\n",
      "current_batch: 3\n",
      "range:(0, 2000) loss= 2.44251084328\n",
      "range:(2000, 4000) loss= 2.47674632072\n",
      "range:(4000, 6000) loss= 2.47675657272\n",
      "range:(6000, 8000) loss= 2.48053216934\n",
      "range:(8000, 10000) loss= 2.51703119278\n",
      "\n",
      "=========================================================================================\n",
      "\n",
      "current_batch: 4\n",
      "range:(0, 2000) loss= 2.474391222\n",
      "range:(2000, 4000) loss= 2.46480464935\n"
     ]
    }
   ],
   "source": [
    "''' \n",
    "    WARNING WARNING WARNING!!! This is the main training cell. Since, the data used for this task is CIFAR-10, \n",
    "    This cell will take a really really long time on low-end machines. It will however not crash your pc, since \n",
    "    I have bootstrapped the training in such a way that it loads a small chunk of data at a time to train.\n",
    "    \n",
    "    It took me around 5hrs to execute this cell entirely.\n",
    "'''\n",
    "\n",
    "with tf.Session(graph=computation_graph) as sess:\n",
    "    if(os.path.isfile(os.path.join(base_model_path, \"checkpoint\"))):\n",
    "         # load the weights from the model1\n",
    "        saver = tf.train.import_meta_graph(model_path + \"-95.meta\")\n",
    "\n",
    "        # instead of global variable initializer, restore the graph:\n",
    "        saver.restore(sess, tf.train.latest_checkpoint(base_model_path))\n",
    "    \n",
    "    else:\n",
    "        # create a new saver\n",
    "        saver = tf.train.Saver(max_to_keep=2)\n",
    "        \n",
    "        # initialize all the variables\n",
    "        sess.run(tf.global_variables_initializer())\n",
    "    \n",
    "    for ep in range(no_of_epochs):  # epochs loop\n",
    "        \n",
    "        print \"epoch: \" + str(ep + 1)\n",
    "        print \"=================================================================================================\"\n",
    "        print \"=================================================================================================\"\n",
    "        \n",
    "        for batch_n in range(no_of_batches):  # batches loop\n",
    "            \n",
    "            # retrieve the operations from the graph to be evaluated\n",
    "            loss = sess.graph.get_tensor_by_name(\"loss:0\")\n",
    "            train_op = sess.graph.get_operation_by_name(\"train_op\")\n",
    "            inputs = sess.graph.get_tensor_by_name(\"inputs:0\")\n",
    "            \n",
    "            # generate the batch images and labels\n",
    "            batch_images, batch_labels = generateBatch(os.path.join(data_path, \"data_batch_\" + str(batch_n + 1)))\n",
    "            \n",
    "            min_batch_size = 2000 # we look at only 500 images at a time since the machine is small\n",
    "            \n",
    "            print \"current_batch: \" + str(batch_n + 1)\n",
    "            \n",
    "            for index in range(len(batch_images) / min_batch_size):\n",
    "                start = index * min_batch_size\n",
    "                end = start + min_batch_size\n",
    "                _, cost = sess.run([train_op, loss], feed_dict={inputs: batch_images[start: end]})\n",
    "                print('range:{} loss= {}'.format((start, end), cost))\n",
    "            \n",
    "            print \"\\n=========================================================================================\\n\"\n",
    "        \n",
    "        if((ep + 1) % checkpoint_factor == 0):\n",
    "            # save the model trained so far:\n",
    "            saver.save(sess, model_path, global_step = ep)\n",
    "        \n",
    "    print \"=================================================================================================\"\n",
    "    print \"=================================================================================================\""
   ]
  },
  {
   "cell_type": "code",
   "execution_count": 23,
   "metadata": {},
   "outputs": [
    {
     "name": "stdout",
     "output_type": "stream",
     "text": [
      "INFO:tensorflow:Restoring parameters from ../Models/model1-95\n",
      "[[179 183 183 163 142 169 166 131 137  99  96  99]\n",
      " [164 171 154 106  88 155 161  89 123 142 144 144]\n",
      " [161 153  93  88  87 136 160 148 152 145 136 145]\n",
      " [158 156 151 169 160 156 162 186 176 151 137 135]\n",
      " [156 163 159 167 184 186 187 189 155 133 132 153]\n",
      " [160 152  96 146 210 211 194 163 133 122 120 151]\n",
      " [112 105  68 182 222 197 158 140 138 120 140 174]\n",
      " [ 81  64  54 164 188 173 142 142 133 116 165 178]\n",
      " [151  87  39 146 180 175 153 148 123 111 163 167]\n",
      " [ 94  63  35 138 168 183 193 158 116  91 135 152]\n",
      " [ 92  47  22 121 158 174 188 133  92  68 106 127]\n",
      " [132  47   8  94 161 144 142  94  61  52  68  79]]\n",
      "[[ 183.64996338  198.87814331  198.37153625  166.71717834  157.81082153\n",
      "   188.99617004  189.28961182  139.46324158  133.52061462  125.92617035\n",
      "   116.01972198  110.88182068]\n",
      " [ 175.0222168   167.63063049  141.84790039  102.74865723   84.68496704\n",
      "   148.27500916  157.55554199  100.38578033  123.02937317  133.27636719\n",
      "   138.04930115  148.12983704]\n",
      " [ 165.73504639  145.73445129   95.29556274   89.35235596   91.35560608\n",
      "   132.59205627  148.92219543  127.24686432  143.58790588  142.62449646\n",
      "   134.7776947   143.75662231]\n",
      " [ 149.8223114   139.9045105   142.19120789  158.03457642  152.13337708\n",
      "   141.84477234  150.43960571  179.0769043   165.8458252   135.85014343\n",
      "   122.69624329  122.56491089]\n",
      " [ 143.25180054  143.50823975  155.67948914  170.07746887  177.66520691\n",
      "   179.14057922  182.33030701  189.17312622  157.98989868  137.97961426\n",
      "   135.28730774  148.18836975]\n",
      " [ 130.62062073  134.85089111   96.85689545  150.59828186  217.08647156\n",
      "   210.86148071  198.26158142  169.44000244  138.14485168  126.51393127\n",
      "   125.50424957  155.96386719]\n",
      " [ 104.01965332  105.62711334   81.69293213  184.4717865   223.61729431\n",
      "   195.64877319  157.79885864  140.12715149  136.35923767  121.9217453\n",
      "   143.17588806  173.70542908]\n",
      " [  96.75653839   66.8172226    48.36981201  159.68861389  182.63774109\n",
      "   175.45742798  133.99765015  136.90174866  124.60214996  105.6307373\n",
      "   162.26545715  178.83740234]\n",
      " [ 121.16305542   83.02113342   32.00237656  143.22537231  178.1967926\n",
      "   177.94400024  153.20803833  142.63516235  120.14651489  108.87001801\n",
      "   164.51899719  165.76539612]\n",
      " [ 113.37255859   67.87475586   33.46261978  131.78004456  169.82717896\n",
      "   189.78565979  194.95359802  158.24432373  119.73298645   90.17510986\n",
      "   138.54962158  154.05491638]\n",
      " [ 104.88418579   43.79747391   30.01890182  118.97370911  156.7162323\n",
      "   168.29151917  189.27360535  132.61758423   95.41137695   75.15431976\n",
      "   110.0928421   127.12242889]\n",
      " [  99.36955261   42.01408768    8.79855347   99.11074829  158.15875244\n",
      "   142.62709045  140.95889282   92.47842407   62.42589188   51.27470398\n",
      "    66.69808197   79.93500519]]\n",
      "(32, 32, 3)\n"
     ]
    },
    {
     "data": {
      "image/png": "[encoded data removed]",
      "text/plain": [
       "<matplotlib.figure.Figure at 0x7fb7c35511d0>"
      ]
     },
     "metadata": {},
     "output_type": "display_data"
    },
    {
     "data": {
      "image/png": "[encoded data removed]",
      "text/plain": [
       "<matplotlib.figure.Figure at 0x7fb757523290>"
      ]
     },
     "metadata": {},
     "output_type": "display_data"
    }
   ],
   "source": [
    "# load the saved model: \n",
    "with tf.Session(graph=computation_graph) as sess:\n",
    "    \n",
    "    # load the weights from the model1\n",
    "    saver = tf.train.import_meta_graph(model_path + \"-95.meta\")\n",
    "    \n",
    "    # instead of global variable initializer, restore the graph:\n",
    "    saver.restore(sess, tf.train.latest_checkpoint(base_model_path))\n",
    "    \n",
    "    prediction = sess.graph.get_tensor_by_name(\"prediction:0\")\n",
    "    inputs = sess.graph.get_tensor_by_name(\"inputs:0\")\n",
    "    \n",
    "    random_image = batch_data[np.random.randint(len(batch_data))]\n",
    "    reconstructed_image = sess.run(prediction, feed_dict={inputs: np.array([random_image])})[0]\n",
    "    \n",
    "    print random_image[:12, :12, 0]\n",
    "    print reconstructed_image[:12, :12, 0]\n",
    "    \n",
    "    # plot the two images with their titles:\n",
    "    plt.figure().suptitle(\"Original Image\")\n",
    "    plt.imshow(random_image, interpolation='none')\n",
    "    \n",
    "    print reconstructed_image.shape\n",
    "    \n",
    "    plt.figure().suptitle(\"Reconstructed Image\")\n",
    "    plt.imshow(reconstructed_image, interpolation='none')"
   ]
  },
  {
   "cell_type": "code",
   "execution_count": null,
   "metadata": {
    "collapsed": true
   },
   "outputs": [],
   "source": []
  }
 ],
 "metadata": {
  "kernelspec": {
   "display_name": "Python 2",
   "language": "python",
   "name": "python2"
  },
  "language_info": {
   "codemirror_mode": {
    "name": "ipython",
    "version": 2
   },
   "file_extension": ".py",
   "mimetype": "text/x-python",
   "name": "python",
   "nbconvert_exporter": "python",
   "pygments_lexer": "ipython2",
   "version": "2.7.13"
  }
 },
 "nbformat": 4,
 "nbformat_minor": 2
}
