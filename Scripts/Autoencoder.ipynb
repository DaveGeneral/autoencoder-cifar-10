{
 "cells": [
  {
   "cell_type": "markdown",
   "metadata": {},
   "source": [
    "# Script to train an AutoEncoder for the CIFAR-10 dataset. \n",
    "-------------------------------------------------------------------------------------------------------------------\n",
    "### Technology used: Tensorflow-core "
   ]
  },
  {
   "cell_type": "code",
   "execution_count": 1,
   "metadata": {
    "collapsed": true
   },
   "outputs": [],
   "source": [
    "# packages used for machine learning\n",
    "import tensorflow as tf\n",
    "\n",
    "# packages used for processing: \n",
    "from six.moves import cPickle as pickle # for reading the data\n",
    "import matplotlib.pyplot as plt # for visualization\n",
    "import numpy as np\n",
    "from sklearn.preprocessing import OneHotEncoder # for encoding the labels in one hot form\n",
    "\n",
    "# for operating system related stuff\n",
    "import os\n",
    "import sys # for memory usage of objects\n",
    "from subprocess import check_output\n",
    "\n",
    "# to plot the images inline\n",
    "%matplotlib inline"
   ]
  },
  {
   "cell_type": "code",
   "execution_count": 2,
   "metadata": {
    "collapsed": true
   },
   "outputs": [],
   "source": [
    "# Input data files are available in the \"../Data/\" directory.\n",
    "\n",
    "def exec_command(cmd):\n",
    "    '''\n",
    "        function to execute a shell command and see it's \n",
    "        output in the python console\n",
    "        @params\n",
    "        cmd = the command to be executed along with the arguments\n",
    "              ex: ['ls', '../input']\n",
    "    '''\n",
    "    print(check_output(cmd).decode(\"utf8\"))"
   ]
  },
  {
   "cell_type": "code",
   "execution_count": 3,
   "metadata": {},
   "outputs": [
    {
     "name": "stdout",
     "output_type": "stream",
     "text": [
      "Data\n",
      "LICENSE\n",
      "Models\n",
      "README.md\n",
      "requirements.txt\n",
      "Scripts\n",
      "\n"
     ]
    }
   ],
   "source": [
    "# check the structure of the project directory\n",
    "exec_command(['ls', '..'])"
   ]
  },
  {
   "cell_type": "code",
   "execution_count": 4,
   "metadata": {
    "collapsed": true
   },
   "outputs": [],
   "source": [
    "''' Set the constants for the script '''\n",
    "\n",
    "# various paths of the files\n",
    "data_path = \"../Data/cifar-10-batches-py\" # the data path\n",
    "train_meta = os.path.join(data_path, \"batches.meta\")\n",
    "base_model_path = '../Models'\n",
    "\n",
    "# constant values:\n",
    "size = 32 # the images of size 32 x 32\n",
    "channels = 3 # RGB channels\n",
    "highest_pixel_value = 255.0 # 8 bits for every channel. So, max value is 255\n",
    "no_of_epochs = 100 # No. of epochs to run\n",
    "no_of_batches = 5 # There are 5 batches in the dataset\n",
    "checkpoint_factor = 5 # save the model after every 5 steps (epochs)"
   ]
  },
  {
   "cell_type": "code",
   "execution_count": 5,
   "metadata": {},
   "outputs": [
    {
     "name": "stdout",
     "output_type": "stream",
     "text": [
      "batches.meta\n",
      "data_batch_1\n",
      "data_batch_2\n",
      "data_batch_3\n",
      "data_batch_4\n",
      "data_batch_5\n",
      "readme.html\n",
      "test_batch\n",
      "\n"
     ]
    }
   ],
   "source": [
    "# check the contents inside the data folder\n",
    "exec_command(['ls', data_path])"
   ]
  },
  {
   "cell_type": "code",
   "execution_count": 6,
   "metadata": {
    "collapsed": true
   },
   "outputs": [],
   "source": [
    "# function to unPickle a file: \n",
    "def unpickle(file):\n",
    "    '''\n",
    "        This function takes the file path and unPickles the file acquired from it\n",
    "        @Param file: the string path of the file\n",
    "        @return: The dict object unPickled from the file\n",
    "    '''\n",
    "    import cPickle\n",
    "    with open(file, 'rb') as fo:\n",
    "        dict = cPickle.load(fo)\n",
    "    return dict"
   ]
  },
  {
   "cell_type": "markdown",
   "metadata": {},
   "source": [
    "### Let's check the contents of the batches.meta file"
   ]
  },
  {
   "cell_type": "code",
   "execution_count": 7,
   "metadata": {},
   "outputs": [
    {
     "data": {
      "text/plain": [
       "{'label_names': ['airplane',\n",
       "  'automobile',\n",
       "  'bird',\n",
       "  'cat',\n",
       "  'deer',\n",
       "  'dog',\n",
       "  'frog',\n",
       "  'horse',\n",
       "  'ship',\n",
       "  'truck'],\n",
       " 'num_cases_per_batch': 10000,\n",
       " 'num_vis': 3072}"
      ]
     },
     "execution_count": 7,
     "metadata": {},
     "output_type": "execute_result"
    }
   ],
   "source": [
    "meta_data = unpickle(train_meta)\n",
    "\n",
    "# check it's contents\n",
    "meta_data"
   ]
  },
  {
   "cell_type": "markdown",
   "metadata": {},
   "source": [
    "### Let's read and display some of the images from the dataset along with their labels"
   ]
  },
  {
   "cell_type": "code",
   "execution_count": 8,
   "metadata": {},
   "outputs": [
    {
     "data": {
      "text/plain": [
       "['data', 'labels', 'batch_label', 'filenames']"
      ]
     },
     "execution_count": 8,
     "metadata": {},
     "output_type": "execute_result"
    }
   ],
   "source": [
    "train_batch_preliminary = unpickle(os.path.join(data_path, \"data_batch_3\"))\n",
    "\n",
    "# check it's contents\n",
    "train_batch_preliminary.keys()"
   ]
  },
  {
   "cell_type": "code",
   "execution_count": 9,
   "metadata": {},
   "outputs": [
    {
     "data": {
      "text/plain": [
       "array([[178, 191, 193, 197, 202, 206, 207, 209, 214, 219],\n",
       "       [140, 151, 155, 160, 166, 172, 173, 171, 176, 180],\n",
       "       [ 84,  94, 119, 151, 146, 127, 125, 135, 139, 139],\n",
       "       [ 16,  18,  85, 200, 207, 133,  71,  59,  72,  79],\n",
       "       [  9,   3,  51, 183, 238, 219, 177,  94,  30,  16],\n",
       "       [ 31,  25,  38, 148, 240, 249, 255, 235, 139,  39],\n",
       "       [ 69,  65,  62, 115, 215, 250, 248, 253, 245, 201],\n",
       "       [ 92,  89,  81,  89, 173, 240, 249, 253, 253, 255],\n",
       "       [ 93,  90,  84,  85, 139, 217, 241, 246, 251, 252],\n",
       "       [ 75,  74,  71,  87, 154, 208, 229, 239, 245, 250]], dtype=uint8)"
      ]
     },
     "execution_count": 9,
     "metadata": {},
     "output_type": "execute_result"
    }
   ],
   "source": [
    "# Extract the first 3 images from the dataset\n",
    "preliminary_data = train_batch_preliminary['data'].reshape((len(train_batch_preliminary['data']), 32, 32, 3), \n",
    "                                                           order='F')\n",
    "preliminary_labels = train_batch_preliminary['labels']\n",
    "\n",
    "# view some of the data:\n",
    "preliminary_data[33, :10, :10, 2] #(10 x 10) data of blue channel of 33rd image"
   ]
  },
  {
   "cell_type": "code",
   "execution_count": 10,
   "metadata": {},
   "outputs": [
    {
     "data": {
      "text/plain": [
       "[8, 5, 0, 6, 9, 2, 8, 3, 6, 2]"
      ]
     },
     "execution_count": 10,
     "metadata": {},
     "output_type": "execute_result"
    }
   ],
   "source": [
    "# check a few values of the labels of the dataset\n",
    "preliminary_labels[:10] "
   ]
  },
  {
   "cell_type": "code",
   "execution_count": 11,
   "metadata": {},
   "outputs": [
    {
     "data": {
      "image/png": "[encoded data removed]",
      "text/plain": [
       "<matplotlib.figure.Figure at 0x7fa763d28790>"
      ]
     },
     "metadata": {},
     "output_type": "display_data"
    },
    {
     "data": {
      "image/png": "[encoded data removed]",
      "text/plain": [
       "<matplotlib.figure.Figure at 0x7fa7ad61d1d0>"
      ]
     },
     "metadata": {},
     "output_type": "display_data"
    },
    {
     "data": {
      "image/png": "[encoded data removed]",
      "text/plain": [
       "<matplotlib.figure.Figure at 0x7fa763d4b590>"
      ]
     },
     "metadata": {},
     "output_type": "display_data"
    }
   ],
   "source": [
    "for _ in range(3):\n",
    "    random_index = np.random.randint(preliminary_data.shape[0])\n",
    "    \n",
    "    plt.figure().suptitle(\"Random Image from the dataset: %s\" %(meta_data['label_names'][preliminary_labels[random_index]]))\n",
    "    plt.imshow(preliminary_data[random_index], interpolation='none')"
   ]
  },
  {
   "cell_type": "markdown",
   "metadata": {},
   "source": [
    "### The images look blurred out because they are very low resolution images (32 x 32) pixels only.\n",
    "\n",
    "## It can be seen that the images in the original dataset are skewed. So, we will have to rotate them by 90 degrees clockwise"
   ]
  },
  {
   "cell_type": "code",
   "execution_count": 12,
   "metadata": {},
   "outputs": [
    {
     "data": {
      "image/png": "[encoded data removed]",
      "text/plain": [
       "<matplotlib.figure.Figure at 0x7fa767615d50>"
      ]
     },
     "metadata": {},
     "output_type": "display_data"
    }
   ],
   "source": [
    "# let's try using the numpy.rot90 method for this:\n",
    "random_index = np.random.randint(preliminary_data.shape[0])\n",
    "    \n",
    "plt.figure().suptitle(\"Random Image from the dataset: %s\" %(meta_data['label_names'][preliminary_labels[random_index]]))\n",
    "plt.imshow(np.rot90(preliminary_data[random_index], axes=(1, 0)), interpolation='none'); # suppress the unnecessary\n",
    "# output"
   ]
  },
  {
   "cell_type": "markdown",
   "metadata": {},
   "source": [
    "This works. So, now we can create a function to put all this together. This function would take the batch pickle file and create the data suitable for feeding it off to a convolutional neural network."
   ]
  },
  {
   "cell_type": "code",
   "execution_count": 13,
   "metadata": {
    "collapsed": true
   },
   "outputs": [],
   "source": [
    "# The batch generator function:\n",
    "def generateBatch(batchFile):\n",
    "    '''\n",
    "        The function to generate a batch of data suitable for performing the convNet operations on it\n",
    "        @param batchFile -> the path of the input batchfile\n",
    "        @return batch: (data, labels) -> the processed data.\n",
    "    '''\n",
    "    # unpickle the batch file:\n",
    "    data_dict = unpickle(batchFile)\n",
    "    \n",
    "    # extract the data and labels from this dictionary\n",
    "    unprocessed_data = data_dict['data']\n",
    "    integer_labels = np.array(data_dict['labels']) # labels in integer form\n",
    "    \n",
    "    # reshape and rotate the data\n",
    "    data = unprocessed_data.reshape((len(unprocessed_data), size, size, channels), order='F')\n",
    "    processed_data = np.array(map(lambda x: np.rot90(x, axes=(1, 0)), data))\n",
    "    \n",
    "    # encode the labels in one-hot encoded form\n",
    "    # we use the sklearn.preprocessing package for doing this\n",
    "    encoder = OneHotEncoder(sparse=False)\n",
    "    encoded_labels = np.array(encoder.fit_transform(integer_labels.reshape(len(integer_labels), 1))).astype(np.int)\n",
    "    \n",
    "    # return the processed data and the encoded_labels:\n",
    "    return (processed_data, encoded_labels)"
   ]
  },
  {
   "cell_type": "markdown",
   "metadata": {},
   "source": [
    "### Time to test this function"
   ]
  },
  {
   "cell_type": "code",
   "execution_count": 14,
   "metadata": {},
   "outputs": [
    {
     "name": "stdout",
     "output_type": "stream",
     "text": [
      "((10000, 32, 32, 3), (10000, 10))\n"
     ]
    }
   ],
   "source": [
    "# load the batch no. 1 and check if it works correctly.\n",
    "batch_data, batch_labels = generateBatch(os.path.join(data_path, \"data_batch_1\"))\n",
    "print (batch_data.shape, batch_labels.shape)\n",
    "\n",
    "# batch_data[0, :12, :12, 2]"
   ]
  },
  {
   "cell_type": "markdown",
   "metadata": {},
   "source": [
    "Alright! So, the data extraction module is setup. Let's move on to the actual model building and training."
   ]
  },
  {
   "cell_type": "markdown",
   "metadata": {},
   "source": [
    "# The computation graph (tensorflow graph and not the weights) for this model is inside the computation_graph package. It can be imported from there"
   ]
  },
  {
   "cell_type": "code",
   "execution_count": 15,
   "metadata": {},
   "outputs": [
    {
     "data": {
      "text/plain": [
       "TensorShape([Dimension(None), Dimension(2), Dimension(2), Dimension(32)])"
      ]
     },
     "execution_count": 15,
     "metadata": {},
     "output_type": "execute_result"
    }
   ],
   "source": [
    "# import the graph from the Graph1 module \n",
    "import computation_graph.Graph1 \n",
    "\n",
    "computation_graph = computation_graph.Graph1.graph\n",
    "\n",
    "# obtain a handle on the encoded_representation tensor of the dataflow computation graph\n",
    "encoded_representation = computation_graph.get_tensor_by_name(\"encoded_representation:0\")\n",
    "encoded_representation.shape # The output shape of the encoded representation. It is 32 x 2 x 2 i.e 128 \n",
    "# Thus the latent representation is 128 dimensional"
   ]
  },
  {
   "cell_type": "code",
   "execution_count": 16,
   "metadata": {
    "collapsed": true
   },
   "outputs": [],
   "source": [
    "model_path = os.path.join(base_model_path, \"Model1\")"
   ]
  },
  {
   "cell_type": "markdown",
   "metadata": {},
   "source": [
    "## Now, let's write the session code to run this computation graph and perform the training"
   ]
  },
  {
   "cell_type": "code",
   "execution_count": null,
   "metadata": {
    "scrolled": true
   },
   "outputs": [],
   "source": [
    "''' \n",
    "    WARNING WARNING WARNING!!! This is the main training cell. Since, the data used for this task is CIFAR-10, \n",
    "    This cell will take a really really long time on low-end machines. It will however not crash your pc, since \n",
    "    I have bootstrapped the training in such a way that it loads a small chunk of data at a time to train.\n",
    "    \n",
    "    It took me around 5hrs to execute this cell entirely.\n",
    "'''\n",
    "\n",
    "with tf.Session(graph=computation_graph) as sess:\n",
    "    \n",
    "    if(os.path.isfile(os.path.join(model_path, \"checkpoint\"))):\n",
    "         # load the weights from the model1\n",
    "        saver = tf.train.Saver(max_to_keep=2)\n",
    "\n",
    "        # instead of global variable initializer, restore the graph:\n",
    "        saver.restore(sess, tf.train.latest_checkpoint(model_path))\n",
    "    \n",
    "    else:\n",
    "        # create a new saver\n",
    "        saver = tf.train.Saver(max_to_keep=2)\n",
    "        \n",
    "        # initialize all the variables\n",
    "        sess.run(tf.global_variables_initializer())\n",
    "    \n",
    "    for ep in range(50, no_of_epochs):  # epochs loop\n",
    "        \n",
    "        print \"epoch: \" + str(ep + 1)\n",
    "        print \"=================================================================================================\"\n",
    "        print \"=================================================================================================\"\n",
    "        \n",
    "        for batch_n in range(no_of_batches):  # batches loop\n",
    "            \n",
    "            # retrieve the operations from the graph to be evaluated\n",
    "            loss = sess.graph.get_tensor_by_name(\"loss:0\")\n",
    "            train_op = sess.graph.get_operation_by_name(\"train_op\")\n",
    "            inputs = sess.graph.get_tensor_by_name(\"inputs:0\")\n",
    "            \n",
    "            # generate the batch images and labels\n",
    "            batch_images, batch_labels = generateBatch(os.path.join(data_path, \"data_batch_\" + str(batch_n + 1)))\n",
    "            \n",
    "            min_batch_size = 2000 # we look at only 500 images at a time since the machine is small\n",
    "            \n",
    "            print \"current_batch: \" + str(batch_n + 1)\n",
    "            \n",
    "            for index in range(len(batch_images) / min_batch_size):\n",
    "                start = index * min_batch_size\n",
    "                end = start + min_batch_size\n",
    "                _, cost = sess.run([train_op, loss], feed_dict={inputs: batch_images[start: end]})\n",
    "                print('range:{} loss= {}'.format((start, end), cost))\n",
    "            \n",
    "            print \"\\n=========================================================================================\\n\"\n",
    "        \n",
    "        if((ep + 1) % checkpoint_factor == 0):\n",
    "            # save the model trained so far:\n",
    "            saver.save(sess, os.path.join(model_path, \"model1\"), global_step = (ep + 1))\n",
    "        \n",
    "    print \"=================================================================================================\"\n",
    "    print \"=================================================================================================\""
   ]
  },
  {
   "cell_type": "markdown",
   "metadata": {},
   "source": [
    "# Let's visualize the representation of a random image and it's reconstructed form"
   ]
  },
  {
   "cell_type": "code",
   "execution_count": 17,
   "metadata": {},
   "outputs": [
    {
     "name": "stdout",
     "output_type": "stream",
     "text": [
      "INFO:tensorflow:Restoring parameters from ../Models/Model1/model1-100\n",
      "[[ 15  14  21  31  40  30  15  15  19  18   9  12]\n",
      " [ 10  10  14  20  28  27  15  11  17  16   9   9]\n",
      " [  8   8  10  13  25  24  19  19   9  10   9  11]\n",
      " [  9   8   9  11  15  15  22  35  19   9   8  10]\n",
      " [  8   8   9  12  13  12  14  28  18   6   8   9]\n",
      " [ 10  10   9  12  20  15  12  23  13   8  10   7]\n",
      " [ 10   9  10  13  23  24  13  25  16  16  19  23]\n",
      " [  8   8   9  12  17  27  17  28  17  63 133 168]\n",
      " [  8   8   7   9  13  27  41  72 102 178 215 220]\n",
      " [ 10   9   9  55  96 115 152 185 197 198 188 183]\n",
      " [ 14  10  35 115 132 150 176 178 170 170 167 161]\n",
      " [ 10   8  78 133 121 122 134 147 148 149 155 155]]\n",
      "[[  1.83977146e+01   1.87713108e+01   1.75687695e+01   1.55326166e+01\n",
      "    1.53827381e+01   1.50672102e+01   1.80636883e+01   1.54245415e+01\n",
      "    1.02957716e+01   5.47046757e+00   1.65202868e+00   1.88587201e+00]\n",
      " [  1.84403515e+01   2.03542652e+01   1.70898724e+01   2.02607212e+01\n",
      "    1.66576462e+01   1.63335285e+01   2.30715885e+01   1.93165970e+01\n",
      "    1.52390203e+01   1.32407141e+01   4.72628307e+00  -1.76028311e-02]\n",
      " [  1.45390892e+01   1.63011532e+01   1.91939106e+01   2.05163956e+01\n",
      "    2.24960041e+01   2.53716736e+01   2.70026035e+01   2.62894268e+01\n",
      "    1.99822025e+01   1.47332993e+01   5.57389259e+00   5.00772619e+00]\n",
      " [  1.36382885e+01   1.44616079e+01   1.94666519e+01   2.65795593e+01\n",
      "    2.29142513e+01   2.98567963e+01   2.66073360e+01   2.81595039e+01\n",
      "    2.26701717e+01   1.72015858e+01   6.61305428e+00   7.83712578e+00]\n",
      " [  1.31888618e+01   1.05237904e+01   1.78767338e+01   2.12802448e+01\n",
      "    1.90392532e+01   2.02007103e+01   1.75262985e+01   1.69266472e+01\n",
      "    1.43838148e+01   1.32909718e+01   8.33539963e+00   4.84294081e+00]\n",
      " [  7.79645777e+00   8.95093250e+00   1.46597900e+01   1.77526875e+01\n",
      "    1.53062124e+01   3.49159956e+00  -5.43000317e+00  -6.54432535e+00\n",
      "    4.53575611e+00   1.07587881e+01   1.57730579e+01   1.29253826e+01]\n",
      " [  2.07318163e+00   3.96025825e+00   8.43485641e+00   1.40666113e+01\n",
      "    1.25638580e+01   8.03004265e+00  -8.70069790e+00  -2.16243696e+00\n",
      "    1.46563625e+01   3.49758949e+01   4.63093796e+01   4.73367195e+01]\n",
      " [  2.61351800e+00   5.37831426e-01   1.12125196e+01   2.39678288e+01\n",
      "    2.80429401e+01   2.60435276e+01   2.55185871e+01   3.61561432e+01\n",
      "    6.07531853e+01   9.07314911e+01   1.14673584e+02   1.18946060e+02]\n",
      " [  2.01248670e+00   2.04813838e+00   1.71228523e+01   4.01280708e+01\n",
      "    5.96153679e+01   7.35823441e+01   7.65176773e+01   9.62836761e+01\n",
      "    1.30347107e+02   1.51879944e+02   1.81312943e+02   1.88792923e+02]\n",
      " [  8.58065486e-01   1.06924009e+01   2.31681404e+01   6.03849144e+01\n",
      "    8.77480316e+01   1.10161385e+02   1.22924576e+02   1.42730194e+02\n",
      "    1.68514999e+02   1.84589630e+02   1.98791504e+02   2.13840851e+02]\n",
      " [  6.35649920e+00   1.54641266e+01   3.51731186e+01   6.97916412e+01\n",
      "    1.02579346e+02   1.26781891e+02   1.40800140e+02   1.52901154e+02\n",
      "    1.67027985e+02   1.79733871e+02   1.79355606e+02   1.89290329e+02]\n",
      " [  2.17904606e+01   3.31809731e+01   5.27879944e+01   8.28147125e+01\n",
      "    1.11963074e+02   1.33016983e+02   1.41044144e+02   1.48726166e+02\n",
      "    1.56472717e+02   1.52932495e+02   1.44721542e+02   1.49686249e+02]]\n",
      "(32, 32, 3)\n"
     ]
    },
    {
     "data": {
      "image/png": "[encoded data removed]",
      "text/plain": [
       "<matplotlib.figure.Figure at 0x7fa7674ffe50>"
      ]
     },
     "metadata": {},
     "output_type": "display_data"
    },
    {
     "data": {
      "image/png": "[encoded data removed]",
      "text/plain": [
       "<matplotlib.figure.Figure at 0x7fa76762ccd0>"
      ]
     },
     "metadata": {},
     "output_type": "display_data"
    }
   ],
   "source": [
    "with tf.Session(graph = computation_graph) as sess:\n",
    "    # load the weights from the model1\n",
    "    saver = tf.train.Saver()\n",
    "    \n",
    "    # instead of global variable initializer, restore the graph:\n",
    "    saver.restore(sess, tf.train.latest_checkpoint(model_path))\n",
    "    \n",
    "    prediction = sess.graph.get_tensor_by_name(\"prediction:0\")\n",
    "    inputs = sess.graph.get_tensor_by_name(\"inputs:0\")\n",
    "    \n",
    "    random_image = batch_data[np.random.randint(len(batch_data))]\n",
    "    reconstructed_image = sess.run(prediction, feed_dict={inputs: np.array([random_image])})[0]\n",
    "    \n",
    "    print random_image[:12, :12, 0]\n",
    "    print reconstructed_image[:12, :12, 0]\n",
    "    \n",
    "    # plot the two images with their titles:\n",
    "    plt.figure().suptitle(\"Original Image\")\n",
    "    plt.imshow(random_image, interpolation='none')\n",
    "    \n",
    "    print reconstructed_image.shape\n",
    "    \n",
    "    plt.figure().suptitle(\"Reconstructed Image\")\n",
    "    plt.imshow(reconstructed_image, interpolation='none')"
   ]
  },
  {
   "cell_type": "markdown",
   "metadata": {
    "collapsed": true
   },
   "source": [
    "# Use the 2nd model that has pooling layers to check the results:"
   ]
  },
  {
   "cell_type": "code",
   "execution_count": 18,
   "metadata": {},
   "outputs": [
    {
     "name": "stdout",
     "output_type": "stream",
     "text": [
      "(?, 2, 2, 32)\n"
     ]
    },
    {
     "data": {
      "text/plain": [
       "TensorShape([Dimension(None), Dimension(32), Dimension(32), Dimension(3)])"
      ]
     },
     "execution_count": 18,
     "metadata": {},
     "output_type": "execute_result"
    }
   ],
   "source": [
    "# import the graph from the Graph1 module \n",
    "import computation_graph.Graph2\n",
    "\n",
    "computation_graph = computation_graph.Graph2.graph\n",
    "\n",
    "# obtain a handle on the encoded_representation tensor of the dataflow computation graph\n",
    "encoded_representation = computation_graph.get_tensor_by_name(\"encoded_representation:0\")\n",
    "print encoded_representation.shape # The output shape of the encoded representation. It is 32 x 2 x 2 i.e 128 \n",
    "# Thus the latent representation is 128 dimensional\n",
    "\n",
    "# The prediction is again a good shaped tensor of dimensions 32 x 32 x 3\n",
    "prediction = computation_graph.get_tensor_by_name(\"prediction:0\")\n",
    "prediction.shape # This is same as the original image dimensions"
   ]
  },
  {
   "cell_type": "code",
   "execution_count": 19,
   "metadata": {
    "collapsed": true
   },
   "outputs": [],
   "source": [
    "new_model_path = os.path.join(base_model_path, \"Model2\")"
   ]
  },
  {
   "cell_type": "code",
   "execution_count": 20,
   "metadata": {
    "scrolled": true
   },
   "outputs": [
    {
     "name": "stdout",
     "output_type": "stream",
     "text": [
      "epoch: 1\n",
      "=================================================================================================\n",
      "=================================================================================================\n",
      "current_batch: 1\n",
      "range:(0, 2000) loss= 120.929084778\n",
      "range:(2000, 4000) loss= 119.710044861\n",
      "range:(4000, 6000) loss= 119.268371582\n",
      "range:(6000, 8000) loss= 116.37550354\n",
      "range:(8000, 10000) loss= 113.578697205\n",
      "\n",
      "=========================================================================================\n",
      "\n",
      "current_batch: 2\n",
      "range:(0, 2000) loss= 102.825080872\n",
      "range:(2000, 4000) loss= 87.4618759155\n",
      "range:(4000, 6000) loss= 72.5240936279\n",
      "range:(6000, 8000) loss= 81.4190444946\n",
      "range:(8000, 10000) loss= 79.6826629639\n",
      "\n",
      "=========================================================================================\n",
      "\n",
      "current_batch: 3\n",
      "range:(0, 2000) loss= 67.7745132446\n",
      "range:(2000, 4000) loss= 60.9294128418\n",
      "range:(4000, 6000) loss= 61.6961555481\n",
      "range:(6000, 8000) loss= 62.401763916\n",
      "range:(8000, 10000) loss= 61.2867927551\n",
      "\n",
      "=========================================================================================\n",
      "\n",
      "current_batch: 4\n",
      "range:(0, 2000) loss= 57.4386367798\n",
      "range:(2000, 4000) loss= 52.9662666321\n",
      "range:(4000, 6000) loss= 54.1124572754\n",
      "range:(6000, 8000) loss= 56.6125831604\n",
      "range:(8000, 10000) loss= 53.4495887756\n",
      "\n",
      "=========================================================================================\n",
      "\n",
      "current_batch: 5\n",
      "range:(0, 2000) loss= 50.5567092896\n",
      "range:(2000, 4000) loss= 49.7531814575\n",
      "range:(4000, 6000) loss= 51.1296424866\n",
      "range:(6000, 8000) loss= 50.3502502441\n",
      "range:(8000, 10000) loss= 48.4067192078\n",
      "\n",
      "=========================================================================================\n",
      "\n",
      "epoch: 2\n",
      "=================================================================================================\n",
      "=================================================================================================\n",
      "current_batch: 1\n",
      "range:(0, 2000) loss= 47.158290863\n",
      "range:(2000, 4000) loss= 47.8684654236\n",
      "range:(4000, 6000) loss= 48.0520401001\n",
      "range:(6000, 8000) loss= 46.3130950928\n",
      "range:(8000, 10000) loss= 45.5086555481\n",
      "\n",
      "=========================================================================================\n",
      "\n",
      "current_batch: 2\n",
      "range:(0, 2000) loss= 45.4357185364\n",
      "range:(2000, 4000) loss= 45.7033424377\n",
      "range:(4000, 6000) loss= 44.38697052\n",
      "range:(6000, 8000) loss= 43.7498016357\n",
      "range:(8000, 10000) loss= 43.8072509766\n",
      "\n",
      "=========================================================================================\n",
      "\n",
      "current_batch: 3\n",
      "range:(0, 2000) loss= 43.6809196472\n",
      "range:(2000, 4000) loss= 42.9857902527\n",
      "range:(4000, 6000) loss= 42.7305870056\n",
      "range:(6000, 8000) loss= 42.6463317871\n",
      "range:(8000, 10000) loss= 43.3270149231\n",
      "\n",
      "=========================================================================================\n",
      "\n",
      "current_batch: 4\n",
      "range:(0, 2000) loss= 42.871257782\n",
      "range:(2000, 4000) loss= 41.6226425171\n",
      "range:(4000, 6000) loss= 41.8638954163\n",
      "range:(6000, 8000) loss= 42.2348136902\n",
      "range:(8000, 10000) loss= 41.0014419556\n",
      "\n",
      "=========================================================================================\n",
      "\n",
      "current_batch: 5\n",
      "range:(0, 2000) loss= 41.2970619202\n",
      "range:(2000, 4000) loss= 40.956073761\n",
      "range:(4000, 6000) loss= 40.6524276733\n",
      "range:(6000, 8000) loss= 40.1331596375\n",
      "range:(8000, 10000) loss= 40.1828765869\n",
      "\n",
      "=========================================================================================\n",
      "\n",
      "epoch: 3\n",
      "=================================================================================================\n",
      "=================================================================================================\n",
      "current_batch: 1\n",
      "range:(0, 2000) loss= 40.2136268616\n",
      "range:(2000, 4000) loss= 39.9349365234\n",
      "range:(4000, 6000) loss= 39.5087585449\n",
      "range:(6000, 8000) loss= 39.4390983582\n",
      "range:(8000, 10000) loss= 39.3471031189\n",
      "\n",
      "=========================================================================================\n",
      "\n",
      "current_batch: 2\n",
      "range:(0, 2000) loss= 38.9212379456\n",
      "range:(2000, 4000) loss= 38.9257507324\n",
      "range:(4000, 6000) loss= 38.3902053833\n",
      "range:(6000, 8000) loss= 38.5096206665\n",
      "range:(8000, 10000) loss= 38.1307601929\n",
      "\n",
      "=========================================================================================\n",
      "\n",
      "current_batch: 3\n",
      "range:(0, 2000) loss= 37.554561615\n",
      "range:(2000, 4000) loss= 37.450881958\n",
      "range:(4000, 6000) loss= 37.410118103\n",
      "range:(6000, 8000) loss= 36.8293533325\n",
      "range:(8000, 10000) loss= 37.2135772705\n",
      "\n",
      "=========================================================================================\n",
      "\n",
      "current_batch: 4\n",
      "range:(0, 2000) loss= 36.8487091064\n",
      "range:(2000, 4000) loss= 35.8186988831\n",
      "range:(4000, 6000) loss= 35.7881660461\n",
      "range:(6000, 8000) loss= 35.9961700439\n",
      "range:(8000, 10000) loss= 35.1696090698\n",
      "\n",
      "=========================================================================================\n",
      "\n",
      "current_batch: 5\n",
      "range:(0, 2000) loss= 35.4012031555\n",
      "range:(2000, 4000) loss= 35.1524581909\n",
      "range:(4000, 6000) loss= 34.8968429565\n",
      "range:(6000, 8000) loss= 34.6505661011\n",
      "range:(8000, 10000) loss= 34.5448760986\n",
      "\n",
      "=========================================================================================\n",
      "\n",
      "epoch: 4\n",
      "=================================================================================================\n",
      "=================================================================================================\n",
      "current_batch: 1\n",
      "range:(0, 2000) loss= 34.8105583191\n",
      "range:(2000, 4000) loss= 34.6015586853\n",
      "range:(4000, 6000) loss= 34.1183815002\n",
      "range:(6000, 8000) loss= 34.0801048279\n",
      "range:(8000, 10000) loss= 34.1249465942\n",
      "\n",
      "=========================================================================================\n",
      "\n",
      "current_batch: 2\n",
      "range:(0, 2000) loss= 33.8371963501\n",
      "range:(2000, 4000) loss= 33.801940918\n",
      "range:(4000, 6000) loss= 33.4255447388\n",
      "range:(6000, 8000) loss= 33.5677566528\n",
      "range:(8000, 10000) loss= 33.2212371826\n",
      "\n",
      "=========================================================================================\n",
      "\n",
      "current_batch: 3\n",
      "range:(0, 2000) loss= 32.8050384521\n",
      "range:(2000, 4000) loss= 32.8701858521\n",
      "range:(4000, 6000) loss= 32.8307800293\n",
      "range:(6000, 8000) loss= 32.4539375305\n",
      "range:(8000, 10000) loss= 32.8745040894\n",
      "\n",
      "=========================================================================================\n",
      "\n",
      "current_batch: 4\n",
      "range:(0, 2000) loss= 32.5677185059\n",
      "range:(2000, 4000) loss= 31.8119163513\n",
      "range:(4000, 6000) loss= 31.9578647614\n",
      "range:(6000, 8000) loss= 32.1488342285\n",
      "range:(8000, 10000) loss= 31.4586200714\n",
      "\n",
      "=========================================================================================\n",
      "\n",
      "current_batch: 5\n",
      "range:(0, 2000) loss= 31.7557468414\n",
      "range:(2000, 4000) loss= 31.5872440338\n",
      "range:(4000, 6000) loss= 31.3621788025\n",
      "range:(6000, 8000) loss= 31.2459106445\n",
      "range:(8000, 10000) loss= 31.2025108337\n",
      "\n",
      "=========================================================================================\n",
      "\n",
      "epoch: 5\n",
      "=================================================================================================\n",
      "=================================================================================================\n",
      "current_batch: 1\n",
      "range:(0, 2000) loss= 31.4722232819\n",
      "range:(2000, 4000) loss= 31.3306179047\n",
      "range:(4000, 6000) loss= 30.87109375\n",
      "range:(6000, 8000) loss= 30.9654121399\n",
      "range:(8000, 10000) loss= 31.0793495178\n",
      "\n",
      "=========================================================================================\n",
      "\n",
      "current_batch: 2\n",
      "range:(0, 2000) loss= 30.88879776\n",
      "range:(2000, 4000) loss= 30.9736232758\n",
      "range:(4000, 6000) loss= 30.7185344696\n",
      "range:(6000, 8000) loss= 30.8719539642\n",
      "range:(8000, 10000) loss= 30.661031723\n",
      "\n",
      "=========================================================================================\n",
      "\n",
      "current_batch: 3\n",
      "range:(0, 2000) loss= 30.272195816\n",
      "range:(2000, 4000) loss= 30.4706802368\n",
      "range:(4000, 6000) loss= 30.5182857513\n",
      "range:(6000, 8000) loss= 30.1893043518\n",
      "range:(8000, 10000) loss= 30.6553230286\n",
      "\n",
      "=========================================================================================\n",
      "\n",
      "current_batch: 4\n",
      "range:(0, 2000) loss= 30.4125213623\n",
      "range:(2000, 4000) loss= 29.7933654785\n",
      "range:(4000, 6000) loss= 30.0157737732\n",
      "range:(6000, 8000) loss= 30.2034435272\n",
      "range:(8000, 10000) loss= 29.546875\n",
      "\n",
      "=========================================================================================\n",
      "\n"
     ]
    },
    {
     "name": "stdout",
     "output_type": "stream",
     "text": [
      "current_batch: 5\n",
      "range:(0, 2000) loss= 29.8489055634\n",
      "range:(2000, 4000) loss= 29.7640628815\n",
      "range:(4000, 6000) loss= 29.5262088776\n",
      "range:(6000, 8000) loss= 29.4543571472\n",
      "range:(8000, 10000) loss= 29.4384269714\n",
      "\n",
      "=========================================================================================\n",
      "\n",
      "epoch: 6\n",
      "=================================================================================================\n",
      "=================================================================================================\n",
      "current_batch: 1\n",
      "range:(0, 2000) loss= 29.7215251923\n",
      "range:(2000, 4000) loss= 29.5651321411\n",
      "range:(4000, 6000) loss= 29.1478481293\n",
      "range:(6000, 8000) loss= 29.2611293793\n",
      "range:(8000, 10000) loss= 29.39245224\n",
      "\n",
      "=========================================================================================\n",
      "\n",
      "current_batch: 2\n",
      "range:(0, 2000) loss= 29.2324314117\n",
      "range:(2000, 4000) loss= 29.3602924347\n",
      "range:(4000, 6000) loss= 29.1149864197\n",
      "range:(6000, 8000) loss= 29.2489719391\n",
      "range:(8000, 10000) loss= 29.077627182\n",
      "\n",
      "=========================================================================================\n",
      "\n",
      "current_batch: 3\n",
      "range:(0, 2000) loss= 28.6681976318\n",
      "range:(2000, 4000) loss= 28.9062595367\n",
      "range:(4000, 6000) loss= 29.0086250305\n",
      "range:(6000, 8000) loss= 28.6974430084\n",
      "range:(8000, 10000) loss= 29.1331539154\n",
      "\n",
      "=========================================================================================\n",
      "\n",
      "current_batch: 4\n",
      "range:(0, 2000) loss= 28.9500370026\n",
      "range:(2000, 4000) loss= 28.3531303406\n",
      "range:(4000, 6000) loss= 28.5830211639\n",
      "range:(6000, 8000) loss= 28.7523403168\n",
      "range:(8000, 10000) loss= 28.1371517181\n",
      "\n",
      "=========================================================================================\n",
      "\n",
      "current_batch: 5\n",
      "range:(0, 2000) loss= 28.4508228302\n",
      "range:(2000, 4000) loss= 28.4217090607\n",
      "range:(4000, 6000) loss= 28.1559352875\n",
      "range:(6000, 8000) loss= 28.1041297913\n",
      "range:(8000, 10000) loss= 28.0911769867\n",
      "\n",
      "=========================================================================================\n",
      "\n",
      "epoch: 7\n",
      "=================================================================================================\n",
      "=================================================================================================\n",
      "current_batch: 1\n",
      "range:(0, 2000) loss= 28.3746490479\n",
      "range:(2000, 4000) loss= 28.2420520782\n",
      "range:(4000, 6000) loss= 27.8251304626\n",
      "range:(6000, 8000) loss= 27.9425773621\n",
      "range:(8000, 10000) loss= 28.0678405762\n",
      "\n",
      "=========================================================================================\n",
      "\n",
      "current_batch: 2\n",
      "range:(0, 2000) loss= 27.980682373\n",
      "range:(2000, 4000) loss= 28.1533641815\n",
      "range:(4000, 6000) loss= 27.9201412201\n",
      "range:(6000, 8000) loss= 28.0748596191\n",
      "range:(8000, 10000) loss= 28.0477809906\n",
      "\n",
      "=========================================================================================\n",
      "\n",
      "current_batch: 3\n",
      "range:(0, 2000) loss= 27.788269043\n",
      "range:(2000, 4000) loss= 28.2169704437\n",
      "range:(4000, 6000) loss= 28.101852417\n",
      "range:(6000, 8000) loss= 27.5464897156\n",
      "range:(8000, 10000) loss= 28.0386619568\n",
      "\n",
      "=========================================================================================\n",
      "\n",
      "current_batch: 4\n",
      "range:(0, 2000) loss= 28.0439014435\n",
      "range:(2000, 4000) loss= 27.5022144318\n",
      "range:(4000, 6000) loss= 27.5674915314\n",
      "range:(6000, 8000) loss= 27.645565033\n",
      "range:(8000, 10000) loss= 27.1909122467\n",
      "\n",
      "=========================================================================================\n",
      "\n",
      "current_batch: 5\n",
      "range:(0, 2000) loss= 27.5978145599\n",
      "range:(2000, 4000) loss= 27.5193538666\n",
      "range:(4000, 6000) loss= 27.0934448242\n",
      "range:(6000, 8000) loss= 27.1513080597\n",
      "range:(8000, 10000) loss= 27.3352890015\n",
      "\n",
      "=========================================================================================\n",
      "\n",
      "epoch: 8\n",
      "=================================================================================================\n",
      "=================================================================================================\n",
      "current_batch: 1\n",
      "range:(0, 2000) loss= 27.6183624268\n",
      "range:(2000, 4000) loss= 27.2936401367\n",
      "range:(4000, 6000) loss= 26.8723182678\n",
      "range:(6000, 8000) loss= 27.1990413666\n",
      "range:(8000, 10000) loss= 27.3779506683\n",
      "\n",
      "=========================================================================================\n",
      "\n",
      "current_batch: 2\n",
      "range:(0, 2000) loss= 27.1240940094\n",
      "range:(2000, 4000) loss= 27.2397270203\n",
      "range:(4000, 6000) loss= 27.0801868439\n",
      "range:(6000, 8000) loss= 27.185503006\n",
      "range:(8000, 10000) loss= 27.0133419037\n",
      "\n",
      "=========================================================================================\n",
      "\n",
      "current_batch: 3\n",
      "range:(0, 2000) loss= 26.5562915802\n",
      "range:(2000, 4000) loss= 26.9390525818\n",
      "range:(4000, 6000) loss= 27.0697727203\n",
      "range:(6000, 8000) loss= 26.7136764526\n",
      "range:(8000, 10000) loss= 27.1431064606\n",
      "\n",
      "=========================================================================================\n",
      "\n",
      "current_batch: 4\n",
      "range:(0, 2000) loss= 27.0161361694\n",
      "range:(2000, 4000) loss= 26.512594223\n",
      "range:(4000, 6000) loss= 26.742685318\n",
      "range:(6000, 8000) loss= 26.8358020782\n",
      "range:(8000, 10000) loss= 26.2761745453\n",
      "\n",
      "=========================================================================================\n",
      "\n",
      "current_batch: 5\n",
      "range:(0, 2000) loss= 26.6127376556\n",
      "range:(2000, 4000) loss= 26.6556034088\n",
      "range:(4000, 6000) loss= 26.3406867981\n",
      "range:(6000, 8000) loss= 26.3227787018\n",
      "range:(8000, 10000) loss= 26.3052158356\n",
      "\n",
      "=========================================================================================\n",
      "\n",
      "epoch: 9\n",
      "=================================================================================================\n",
      "=================================================================================================\n",
      "current_batch: 1\n",
      "range:(0, 2000) loss= 26.6449108124\n",
      "range:(2000, 4000) loss= 26.4960212708\n",
      "range:(4000, 6000) loss= 26.0672550201\n",
      "range:(6000, 8000) loss= 26.2559432983\n",
      "range:(8000, 10000) loss= 26.3782520294\n",
      "\n",
      "=========================================================================================\n",
      "\n",
      "current_batch: 2\n",
      "range:(0, 2000) loss= 26.2967472076\n",
      "range:(2000, 4000) loss= 26.499710083\n",
      "range:(4000, 6000) loss= 26.2271976471\n",
      "range:(6000, 8000) loss= 26.2776451111\n",
      "range:(8000, 10000) loss= 26.2390937805\n",
      "\n",
      "=========================================================================================\n",
      "\n",
      "current_batch: 3\n",
      "range:(0, 2000) loss= 25.8198261261\n",
      "range:(2000, 4000) loss= 26.2161712646\n",
      "range:(4000, 6000) loss= 26.3064460754\n",
      "range:(6000, 8000) loss= 25.9626560211\n",
      "range:(8000, 10000) loss= 26.4096050262\n",
      "\n",
      "=========================================================================================\n",
      "\n",
      "current_batch: 4\n",
      "range:(0, 2000) loss= 26.2593231201\n",
      "range:(2000, 4000) loss= 25.763874054\n",
      "range:(4000, 6000) loss= 26.0200233459\n",
      "range:(6000, 8000) loss= 26.1501560211\n",
      "range:(8000, 10000) loss= 25.5977115631\n",
      "\n",
      "=========================================================================================\n",
      "\n",
      "current_batch: 5\n",
      "range:(0, 2000) loss= 25.9139842987\n",
      "range:(2000, 4000) loss= 25.9614639282\n",
      "range:(4000, 6000) loss= 25.6599159241\n",
      "range:(6000, 8000) loss= 25.7056827545\n",
      "range:(8000, 10000) loss= 25.7479801178\n",
      "\n",
      "=========================================================================================\n",
      "\n",
      "epoch: 10\n",
      "=================================================================================================\n",
      "=================================================================================================\n",
      "current_batch: 1\n",
      "range:(0, 2000) loss= 26.1511974335\n",
      "range:(2000, 4000) loss= 26.0024852753\n",
      "range:(4000, 6000) loss= 25.4858207703\n",
      "range:(6000, 8000) loss= 25.6465892792\n",
      "range:(8000, 10000) loss= 25.7012767792\n",
      "\n",
      "=========================================================================================\n",
      "\n",
      "current_batch: 2\n",
      "range:(0, 2000) loss= 25.6242923737\n",
      "range:(2000, 4000) loss= 25.8493289948\n",
      "range:(4000, 6000) loss= 25.6154060364\n",
      "range:(6000, 8000) loss= 25.6691741943\n",
      "range:(8000, 10000) loss= 25.6618938446\n",
      "\n",
      "=========================================================================================\n",
      "\n",
      "current_batch: 3\n",
      "range:(0, 2000) loss= 25.2237548828\n",
      "range:(2000, 4000) loss= 25.617061615\n",
      "range:(4000, 6000) loss= 25.7015628815\n",
      "range:(6000, 8000) loss= 25.3701305389\n",
      "range:(8000, 10000) loss= 25.8282375336\n",
      "\n",
      "=========================================================================================\n",
      "\n"
     ]
    },
    {
     "name": "stdout",
     "output_type": "stream",
     "text": [
      "current_batch: 4\n",
      "range:(0, 2000) loss= 25.6610469818\n",
      "range:(2000, 4000) loss= 25.1605415344\n",
      "range:(4000, 6000) loss= 25.396697998\n",
      "range:(6000, 8000) loss= 25.5109157562\n",
      "range:(8000, 10000) loss= 24.9655017853\n",
      "\n",
      "=========================================================================================\n",
      "\n",
      "current_batch: 5\n",
      "range:(0, 2000) loss= 25.2908382416\n",
      "range:(2000, 4000) loss= 25.3447551727\n",
      "range:(4000, 6000) loss= 25.0316047668\n",
      "range:(6000, 8000) loss= 25.0598907471\n",
      "range:(8000, 10000) loss= 25.0657711029\n",
      "\n",
      "=========================================================================================\n",
      "\n",
      "epoch: 11\n",
      "=================================================================================================\n",
      "=================================================================================================\n",
      "current_batch: 1\n",
      "range:(0, 2000) loss= 25.4389343262\n",
      "range:(2000, 4000) loss= 25.3038845062\n",
      "range:(4000, 6000) loss= 24.9219608307\n",
      "range:(6000, 8000) loss= 25.3237819672\n",
      "range:(8000, 10000) loss= 25.7062835693\n",
      "\n",
      "=========================================================================================\n",
      "\n",
      "current_batch: 2\n",
      "range:(0, 2000) loss= 25.8234996796\n",
      "range:(2000, 4000) loss= 26.0316467285\n",
      "range:(4000, 6000) loss= 25.2204914093\n",
      "range:(6000, 8000) loss= 25.0031871796\n",
      "range:(8000, 10000) loss= 25.2061634064\n",
      "\n",
      "=========================================================================================\n",
      "\n",
      "current_batch: 3\n",
      "range:(0, 2000) loss= 25.1890678406\n",
      "range:(2000, 4000) loss= 25.6501712799\n",
      "range:(4000, 6000) loss= 25.1180477142\n",
      "range:(6000, 8000) loss= 24.7376346588\n",
      "range:(8000, 10000) loss= 25.6022891998\n",
      "\n",
      "=========================================================================================\n",
      "\n",
      "current_batch: 4\n",
      "range:(0, 2000) loss= 25.3434276581\n",
      "range:(2000, 4000) loss= 24.5315723419\n",
      "range:(4000, 6000) loss= 24.665473938\n",
      "range:(6000, 8000) loss= 24.9500179291\n",
      "range:(8000, 10000) loss= 24.4829425812\n",
      "\n",
      "=========================================================================================\n",
      "\n",
      "current_batch: 5\n",
      "range:(0, 2000) loss= 24.6054096222\n",
      "range:(2000, 4000) loss= 24.439496994\n",
      "range:(4000, 6000) loss= 24.2043304443\n",
      "range:(6000, 8000) loss= 24.2943248749\n",
      "range:(8000, 10000) loss= 24.3062648773\n",
      "\n",
      "=========================================================================================\n",
      "\n",
      "epoch: 12\n",
      "=================================================================================================\n",
      "=================================================================================================\n",
      "current_batch: 1\n",
      "range:(0, 2000) loss= 24.4720516205\n",
      "range:(2000, 4000) loss= 24.1016407013\n",
      "range:(4000, 6000) loss= 23.6844291687\n",
      "range:(6000, 8000) loss= 23.9970035553\n",
      "range:(8000, 10000) loss= 24.0143909454\n",
      "\n",
      "=========================================================================================\n",
      "\n",
      "current_batch: 2\n",
      "range:(0, 2000) loss= 23.7809524536\n",
      "range:(2000, 4000) loss= 23.8041152954\n",
      "range:(4000, 6000) loss= 23.5413417816\n",
      "range:(6000, 8000) loss= 23.5780086517\n",
      "range:(8000, 10000) loss= 23.5260124207\n",
      "\n",
      "=========================================================================================\n",
      "\n",
      "current_batch: 3\n",
      "range:(0, 2000) loss= 23.238822937\n",
      "range:(2000, 4000) loss= 23.4592552185\n",
      "range:(4000, 6000) loss= 23.3490409851\n",
      "range:(6000, 8000) loss= 23.0332679749\n",
      "range:(8000, 10000) loss= 23.4729213715\n",
      "\n",
      "=========================================================================================\n",
      "\n",
      "current_batch: 4\n",
      "range:(0, 2000) loss= 23.2925281525\n",
      "range:(2000, 4000) loss= 22.8060131073\n",
      "range:(4000, 6000) loss= 22.9528923035\n",
      "range:(6000, 8000) loss= 23.0967445374\n",
      "range:(8000, 10000) loss= 22.4311199188\n",
      "\n",
      "=========================================================================================\n",
      "\n",
      "current_batch: 5\n",
      "range:(0, 2000) loss= 22.6815624237\n",
      "range:(2000, 4000) loss= 22.5887546539\n",
      "range:(4000, 6000) loss= 22.5882987976\n",
      "range:(6000, 8000) loss= 22.452205658\n",
      "range:(8000, 10000) loss= 22.4354610443\n",
      "\n",
      "=========================================================================================\n",
      "\n",
      "epoch: 13\n",
      "=================================================================================================\n",
      "=================================================================================================\n",
      "current_batch: 1\n",
      "range:(0, 2000) loss= 22.8181686401\n",
      "range:(2000, 4000) loss= 22.5998535156\n",
      "range:(4000, 6000) loss= 22.2758808136\n",
      "range:(6000, 8000) loss= 22.4800109863\n",
      "range:(8000, 10000) loss= 22.4087810516\n",
      "\n",
      "=========================================================================================\n",
      "\n",
      "current_batch: 2\n",
      "range:(0, 2000) loss= 22.3771114349\n",
      "range:(2000, 4000) loss= 22.6086769104\n",
      "range:(4000, 6000) loss= 22.5693092346\n",
      "range:(6000, 8000) loss= 22.5412387848\n",
      "range:(8000, 10000) loss= 22.3573169708\n",
      "\n",
      "=========================================================================================\n",
      "\n",
      "current_batch: 3\n",
      "range:(0, 2000) loss= 22.1229419708\n",
      "range:(2000, 4000) loss= 22.2908859253\n",
      "range:(4000, 6000) loss= 22.2217063904\n",
      "range:(6000, 8000) loss= 21.9587345123\n",
      "range:(8000, 10000) loss= 22.3844738007\n",
      "\n",
      "=========================================================================================\n",
      "\n",
      "current_batch: 4\n",
      "range:(0, 2000) loss= 22.1961307526\n",
      "range:(2000, 4000) loss= 21.7740154266\n",
      "range:(4000, 6000) loss= 22.0093250275\n",
      "range:(6000, 8000) loss= 22.3391399384\n",
      "range:(8000, 10000) loss= 21.8245944977\n",
      "\n",
      "=========================================================================================\n",
      "\n",
      "current_batch: 5\n",
      "range:(0, 2000) loss= 22.2529220581\n",
      "range:(2000, 4000) loss= 22.3585968018\n",
      "range:(4000, 6000) loss= 22.3703956604\n",
      "range:(6000, 8000) loss= 22.0678043365\n",
      "range:(8000, 10000) loss= 21.8586978912\n",
      "\n",
      "=========================================================================================\n",
      "\n",
      "epoch: 14\n",
      "=================================================================================================\n",
      "=================================================================================================\n",
      "current_batch: 1\n",
      "range:(0, 2000) loss= 22.1105709076\n",
      "range:(2000, 4000) loss= 21.8507709503\n",
      "range:(4000, 6000) loss= 21.5390605927\n"
     ]
    },
    {
     "ename": "KeyboardInterrupt",
     "evalue": "",
     "output_type": "error",
     "traceback": [
      "\u001b[0;31m---------------------------------------------------------------------------\u001b[0m",
      "\u001b[0;31mKeyboardInterrupt\u001b[0m                         Traceback (most recent call last)",
      "\u001b[0;32m<ipython-input-20-90fdc059f3db>\u001b[0m in \u001b[0;36m<module>\u001b[0;34m()\u001b[0m\n\u001b[1;32m     46\u001b[0m                 \u001b[0mstart\u001b[0m \u001b[0;34m=\u001b[0m \u001b[0mindex\u001b[0m \u001b[0;34m*\u001b[0m \u001b[0mmin_batch_size\u001b[0m\u001b[0;34m\u001b[0m\u001b[0m\n\u001b[1;32m     47\u001b[0m                 \u001b[0mend\u001b[0m \u001b[0;34m=\u001b[0m \u001b[0mstart\u001b[0m \u001b[0;34m+\u001b[0m \u001b[0mmin_batch_size\u001b[0m\u001b[0;34m\u001b[0m\u001b[0m\n\u001b[0;32m---> 48\u001b[0;31m                 \u001b[0m_\u001b[0m\u001b[0;34m,\u001b[0m \u001b[0mcost\u001b[0m \u001b[0;34m=\u001b[0m \u001b[0msess\u001b[0m\u001b[0;34m.\u001b[0m\u001b[0mrun\u001b[0m\u001b[0;34m(\u001b[0m\u001b[0;34m[\u001b[0m\u001b[0mtrain_op\u001b[0m\u001b[0;34m,\u001b[0m \u001b[0mloss\u001b[0m\u001b[0;34m]\u001b[0m\u001b[0;34m,\u001b[0m \u001b[0mfeed_dict\u001b[0m\u001b[0;34m=\u001b[0m\u001b[0;34m{\u001b[0m\u001b[0minputs\u001b[0m\u001b[0;34m:\u001b[0m \u001b[0mbatch_images\u001b[0m\u001b[0;34m[\u001b[0m\u001b[0mstart\u001b[0m\u001b[0;34m:\u001b[0m \u001b[0mend\u001b[0m\u001b[0;34m]\u001b[0m\u001b[0;34m}\u001b[0m\u001b[0;34m)\u001b[0m\u001b[0;34m\u001b[0m\u001b[0m\n\u001b[0m\u001b[1;32m     49\u001b[0m                 \u001b[0;32mprint\u001b[0m\u001b[0;34m(\u001b[0m\u001b[0;34m'range:{} loss= {}'\u001b[0m\u001b[0;34m.\u001b[0m\u001b[0mformat\u001b[0m\u001b[0;34m(\u001b[0m\u001b[0;34m(\u001b[0m\u001b[0mstart\u001b[0m\u001b[0;34m,\u001b[0m \u001b[0mend\u001b[0m\u001b[0;34m)\u001b[0m\u001b[0;34m,\u001b[0m \u001b[0mcost\u001b[0m\u001b[0;34m)\u001b[0m\u001b[0;34m)\u001b[0m\u001b[0;34m\u001b[0m\u001b[0m\n\u001b[1;32m     50\u001b[0m \u001b[0;34m\u001b[0m\u001b[0m\n",
      "\u001b[0;32m/home/animesh/Programming/platforms/anaconda3/envs/snakes/lib/python2.7/site-packages/tensorflow/python/client/session.pyc\u001b[0m in \u001b[0;36mrun\u001b[0;34m(self, fetches, feed_dict, options, run_metadata)\u001b[0m\n\u001b[1;32m    893\u001b[0m     \u001b[0;32mtry\u001b[0m\u001b[0;34m:\u001b[0m\u001b[0;34m\u001b[0m\u001b[0m\n\u001b[1;32m    894\u001b[0m       result = self._run(None, fetches, feed_dict, options_ptr,\n\u001b[0;32m--> 895\u001b[0;31m                          run_metadata_ptr)\n\u001b[0m\u001b[1;32m    896\u001b[0m       \u001b[0;32mif\u001b[0m \u001b[0mrun_metadata\u001b[0m\u001b[0;34m:\u001b[0m\u001b[0;34m\u001b[0m\u001b[0m\n\u001b[1;32m    897\u001b[0m         \u001b[0mproto_data\u001b[0m \u001b[0;34m=\u001b[0m \u001b[0mtf_session\u001b[0m\u001b[0;34m.\u001b[0m\u001b[0mTF_GetBuffer\u001b[0m\u001b[0;34m(\u001b[0m\u001b[0mrun_metadata_ptr\u001b[0m\u001b[0;34m)\u001b[0m\u001b[0;34m\u001b[0m\u001b[0m\n",
      "\u001b[0;32m/home/animesh/Programming/platforms/anaconda3/envs/snakes/lib/python2.7/site-packages/tensorflow/python/client/session.pyc\u001b[0m in \u001b[0;36m_run\u001b[0;34m(self, handle, fetches, feed_dict, options, run_metadata)\u001b[0m\n\u001b[1;32m   1122\u001b[0m     \u001b[0;32mif\u001b[0m \u001b[0mfinal_fetches\u001b[0m \u001b[0;32mor\u001b[0m \u001b[0mfinal_targets\u001b[0m \u001b[0;32mor\u001b[0m \u001b[0;34m(\u001b[0m\u001b[0mhandle\u001b[0m \u001b[0;32mand\u001b[0m \u001b[0mfeed_dict_tensor\u001b[0m\u001b[0;34m)\u001b[0m\u001b[0;34m:\u001b[0m\u001b[0;34m\u001b[0m\u001b[0m\n\u001b[1;32m   1123\u001b[0m       results = self._do_run(handle, final_targets, final_fetches,\n\u001b[0;32m-> 1124\u001b[0;31m                              feed_dict_tensor, options, run_metadata)\n\u001b[0m\u001b[1;32m   1125\u001b[0m     \u001b[0;32melse\u001b[0m\u001b[0;34m:\u001b[0m\u001b[0;34m\u001b[0m\u001b[0m\n\u001b[1;32m   1126\u001b[0m       \u001b[0mresults\u001b[0m \u001b[0;34m=\u001b[0m \u001b[0;34m[\u001b[0m\u001b[0;34m]\u001b[0m\u001b[0;34m\u001b[0m\u001b[0m\n",
      "\u001b[0;32m/home/animesh/Programming/platforms/anaconda3/envs/snakes/lib/python2.7/site-packages/tensorflow/python/client/session.pyc\u001b[0m in \u001b[0;36m_do_run\u001b[0;34m(self, handle, target_list, fetch_list, feed_dict, options, run_metadata)\u001b[0m\n\u001b[1;32m   1319\u001b[0m     \u001b[0;32mif\u001b[0m \u001b[0mhandle\u001b[0m \u001b[0;32mis\u001b[0m \u001b[0mNone\u001b[0m\u001b[0;34m:\u001b[0m\u001b[0;34m\u001b[0m\u001b[0m\n\u001b[1;32m   1320\u001b[0m       return self._do_call(_run_fn, self._session, feeds, fetches, targets,\n\u001b[0;32m-> 1321\u001b[0;31m                            options, run_metadata)\n\u001b[0m\u001b[1;32m   1322\u001b[0m     \u001b[0;32melse\u001b[0m\u001b[0;34m:\u001b[0m\u001b[0;34m\u001b[0m\u001b[0m\n\u001b[1;32m   1323\u001b[0m       \u001b[0;32mreturn\u001b[0m \u001b[0mself\u001b[0m\u001b[0;34m.\u001b[0m\u001b[0m_do_call\u001b[0m\u001b[0;34m(\u001b[0m\u001b[0m_prun_fn\u001b[0m\u001b[0;34m,\u001b[0m \u001b[0mself\u001b[0m\u001b[0;34m.\u001b[0m\u001b[0m_session\u001b[0m\u001b[0;34m,\u001b[0m \u001b[0mhandle\u001b[0m\u001b[0;34m,\u001b[0m \u001b[0mfeeds\u001b[0m\u001b[0;34m,\u001b[0m \u001b[0mfetches\u001b[0m\u001b[0;34m)\u001b[0m\u001b[0;34m\u001b[0m\u001b[0m\n",
      "\u001b[0;32m/home/animesh/Programming/platforms/anaconda3/envs/snakes/lib/python2.7/site-packages/tensorflow/python/client/session.pyc\u001b[0m in \u001b[0;36m_do_call\u001b[0;34m(self, fn, *args)\u001b[0m\n\u001b[1;32m   1325\u001b[0m   \u001b[0;32mdef\u001b[0m \u001b[0m_do_call\u001b[0m\u001b[0;34m(\u001b[0m\u001b[0mself\u001b[0m\u001b[0;34m,\u001b[0m \u001b[0mfn\u001b[0m\u001b[0;34m,\u001b[0m \u001b[0;34m*\u001b[0m\u001b[0margs\u001b[0m\u001b[0;34m)\u001b[0m\u001b[0;34m:\u001b[0m\u001b[0;34m\u001b[0m\u001b[0m\n\u001b[1;32m   1326\u001b[0m     \u001b[0;32mtry\u001b[0m\u001b[0;34m:\u001b[0m\u001b[0;34m\u001b[0m\u001b[0m\n\u001b[0;32m-> 1327\u001b[0;31m       \u001b[0;32mreturn\u001b[0m \u001b[0mfn\u001b[0m\u001b[0;34m(\u001b[0m\u001b[0;34m*\u001b[0m\u001b[0margs\u001b[0m\u001b[0;34m)\u001b[0m\u001b[0;34m\u001b[0m\u001b[0m\n\u001b[0m\u001b[1;32m   1328\u001b[0m     \u001b[0;32mexcept\u001b[0m \u001b[0merrors\u001b[0m\u001b[0;34m.\u001b[0m\u001b[0mOpError\u001b[0m \u001b[0;32mas\u001b[0m \u001b[0me\u001b[0m\u001b[0;34m:\u001b[0m\u001b[0;34m\u001b[0m\u001b[0m\n\u001b[1;32m   1329\u001b[0m       \u001b[0mmessage\u001b[0m \u001b[0;34m=\u001b[0m \u001b[0mcompat\u001b[0m\u001b[0;34m.\u001b[0m\u001b[0mas_text\u001b[0m\u001b[0;34m(\u001b[0m\u001b[0me\u001b[0m\u001b[0;34m.\u001b[0m\u001b[0mmessage\u001b[0m\u001b[0;34m)\u001b[0m\u001b[0;34m\u001b[0m\u001b[0m\n",
      "\u001b[0;32m/home/animesh/Programming/platforms/anaconda3/envs/snakes/lib/python2.7/site-packages/tensorflow/python/client/session.pyc\u001b[0m in \u001b[0;36m_run_fn\u001b[0;34m(session, feed_dict, fetch_list, target_list, options, run_metadata)\u001b[0m\n\u001b[1;32m   1304\u001b[0m           return tf_session.TF_Run(session, options,\n\u001b[1;32m   1305\u001b[0m                                    \u001b[0mfeed_dict\u001b[0m\u001b[0;34m,\u001b[0m \u001b[0mfetch_list\u001b[0m\u001b[0;34m,\u001b[0m \u001b[0mtarget_list\u001b[0m\u001b[0;34m,\u001b[0m\u001b[0;34m\u001b[0m\u001b[0m\n\u001b[0;32m-> 1306\u001b[0;31m                                    status, run_metadata)\n\u001b[0m\u001b[1;32m   1307\u001b[0m \u001b[0;34m\u001b[0m\u001b[0m\n\u001b[1;32m   1308\u001b[0m     \u001b[0;32mdef\u001b[0m \u001b[0m_prun_fn\u001b[0m\u001b[0;34m(\u001b[0m\u001b[0msession\u001b[0m\u001b[0;34m,\u001b[0m \u001b[0mhandle\u001b[0m\u001b[0;34m,\u001b[0m \u001b[0mfeed_dict\u001b[0m\u001b[0;34m,\u001b[0m \u001b[0mfetch_list\u001b[0m\u001b[0;34m)\u001b[0m\u001b[0;34m:\u001b[0m\u001b[0;34m\u001b[0m\u001b[0m\n",
      "\u001b[0;31mKeyboardInterrupt\u001b[0m: "
     ]
    }
   ],
   "source": [
    "''' \n",
    "    WARNING WARNING WARNING!!! This is the main training cell. Since, the data used for this task is CIFAR-10, \n",
    "    This cell will take a really really long time on low-end machines. It will however not crash your pc, since \n",
    "    I have bootstrapped the training in such a way that it loads a small chunk of data at a time to train.\n",
    "    \n",
    "    It took me around 5hrs to execute this cell entirely.\n",
    "'''\n",
    "\n",
    "with tf.Session(graph=computation_graph) as sess:\n",
    "    \n",
    "    if(os.path.isfile(os.path.join(new_model_path, \"checkpoint\"))):\n",
    "         # load the weights from the model2\n",
    "        saver = tf.train.Saver(max_to_keep=2)\n",
    "\n",
    "        # instead of global variable initializer, restore the graph:\n",
    "        saver.restore(sess, tf.train.latest_checkpoint(new_model_path))\n",
    "    \n",
    "    else:\n",
    "        # create a new saver\n",
    "        saver = tf.train.Saver(max_to_keep=2)\n",
    "        \n",
    "        # initialize all the variables\n",
    "        sess.run(tf.global_variables_initializer())\n",
    "    \n",
    "    for ep in range(no_of_epochs):  # epochs loop\n",
    "        \n",
    "        print \"epoch: \" + str(ep + 1)\n",
    "        print \"=================================================================================================\"\n",
    "        print \"=================================================================================================\"\n",
    "        \n",
    "        for batch_n in range(no_of_batches):  # batches loop\n",
    "            \n",
    "            # retrieve the operations from the graph to be evaluated\n",
    "            loss = sess.graph.get_tensor_by_name(\"loss:0\")\n",
    "            train_op = sess.graph.get_operation_by_name(\"train_op\")\n",
    "            inputs = sess.graph.get_tensor_by_name(\"inputs:0\")\n",
    "            \n",
    "            # generate the batch images and labels\n",
    "            batch_images, batch_labels = generateBatch(os.path.join(data_path, \"data_batch_\" + str(batch_n + 1)))\n",
    "            \n",
    "            min_batch_size = 2000 # we look at only 500 images at a time since the machine is small\n",
    "            \n",
    "            print \"current_batch: \" + str(batch_n + 1)\n",
    "            \n",
    "            for index in range(len(batch_images) / min_batch_size):\n",
    "                start = index * min_batch_size\n",
    "                end = start + min_batch_size\n",
    "                _, cost = sess.run([train_op, loss], feed_dict={inputs: batch_images[start: end]})\n",
    "                print('range:{} loss= {}'.format((start, end), cost))\n",
    "            \n",
    "            print \"\\n=========================================================================================\\n\"\n",
    "        \n",
    "        if((ep + 1) % checkpoint_factor == 0):\n",
    "            # save the model trained so far:\n",
    "            saver.save(sess, os.path.join(new_model_path, \"model2\"), global_step = (ep + 1))\n",
    "        \n",
    "    print \"=================================================================================================\"\n",
    "    print \"=================================================================================================\""
   ]
  },
  {
   "cell_type": "code",
   "execution_count": null,
   "metadata": {
    "collapsed": true
   },
   "outputs": [],
   "source": []
  }
 ],
 "metadata": {
  "kernelspec": {
   "display_name": "Python 2",
   "language": "python",
   "name": "python2"
  },
  "language_info": {
   "codemirror_mode": {
    "name": "ipython",
    "version": 2
   },
   "file_extension": ".py",
   "mimetype": "text/x-python",
   "name": "python",
   "nbconvert_exporter": "python",
   "pygments_lexer": "ipython2",
   "version": "2.7.13"
  }
 },
 "nbformat": 4,
 "nbformat_minor": 2
}
